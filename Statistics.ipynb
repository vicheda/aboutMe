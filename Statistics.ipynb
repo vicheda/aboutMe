{
  "cells": [
    {
      "cell_type": "markdown",
      "source": [
        "### Vicheda Narith - msz4442"
      ],
      "metadata": {
        "id": "1iUqDAMdCDGU"
      }
    },
    {
      "cell_type": "markdown",
      "source": [
        "## Q0. Preparations.\n",
        "\n"
      ],
      "metadata": {
        "id": "E83ck1tpjw1f"
      }
    },
    {
      "cell_type": "markdown",
      "metadata": {
        "id": "El23KHPGvc3n"
      },
      "source": [
        "### Import/install all needed packages here.\n",
        "Run the code blocks without change anything!\n"
      ]
    },
    {
      "cell_type": "code",
      "execution_count": 55,
      "metadata": {
        "id": "2KCyEXSzvc3p",
        "outputId": "1b00d20f-26bd-4f8c-8f35-a806fba8a075",
        "colab": {
          "base_uri": "https://localhost:8080/"
        }
      },
      "outputs": [
        {
          "output_type": "stream",
          "name": "stdout",
          "text": [
            "Requirement already satisfied: apyori in /usr/local/lib/python3.12/dist-packages (1.1.2)\n"
          ]
        }
      ],
      "source": [
        "import json\n",
        "import pandas as pd\n",
        "import scipy\n",
        "from scipy import stats\n",
        "!pip install apyori\n",
        "from apyori import apriori\n",
        "import matplotlib.pyplot as plt"
      ]
    },
    {
      "cell_type": "markdown",
      "source": [
        "## Download datasets to the current directory"
      ],
      "metadata": {
        "id": "5FDBwFlSRRsW"
      }
    },
    {
      "cell_type": "code",
      "source": [
        "#yelp_academic_dataset_user_no_friend.json\n",
        "!wget https://nu-cs326-msai339.s3.us-east-1.amazonaws.com/yelp_academic_dataset_user_no_friend.json"
      ],
      "metadata": {
        "collapsed": true,
        "id": "YbN77MB0RbT-",
        "outputId": "adc2d79b-ad53-4c8f-d0e1-a2f31e3eb460",
        "colab": {
          "base_uri": "https://localhost:8080/"
        }
      },
      "execution_count": 56,
      "outputs": [
        {
          "output_type": "stream",
          "name": "stdout",
          "text": [
            "--2025-10-05 02:49:21--  https://nu-cs326-msai339.s3.us-east-1.amazonaws.com/yelp_academic_dataset_user_no_friend.json\n",
            "Resolving nu-cs326-msai339.s3.us-east-1.amazonaws.com (nu-cs326-msai339.s3.us-east-1.amazonaws.com)... 52.217.113.122, 52.216.26.72, 3.5.9.3, ...\n",
            "Connecting to nu-cs326-msai339.s3.us-east-1.amazonaws.com (nu-cs326-msai339.s3.us-east-1.amazonaws.com)|52.217.113.122|:443... connected.\n",
            "HTTP request sent, awaiting response... 200 OK\n",
            "Length: 810739533 (773M) [application/json]\n",
            "Saving to: ‘yelp_academic_dataset_user_no_friend.json.1’\n",
            "\n",
            "yelp_academic_datas 100%[===================>] 773.18M  46.4MB/s    in 15s     \n",
            "\n",
            "2025-10-05 02:49:36 (52.2 MB/s) - ‘yelp_academic_dataset_user_no_friend.json.1’ saved [810739533/810739533]\n",
            "\n"
          ]
        }
      ]
    },
    {
      "cell_type": "code",
      "source": [
        "#yelp_academic_dataset_business.json\n",
        "!wget https://nu-cs326-msai339.s3.us-east-1.amazonaws.com/yelp_academic_dataset_business.json"
      ],
      "metadata": {
        "collapsed": true,
        "id": "VVDSQpxkRbvz",
        "outputId": "a1ec98f7-3671-4193-efd8-2398686c5419",
        "colab": {
          "base_uri": "https://localhost:8080/"
        }
      },
      "execution_count": 57,
      "outputs": [
        {
          "output_type": "stream",
          "name": "stdout",
          "text": [
            "--2025-10-05 02:49:36--  https://nu-cs326-msai339.s3.us-east-1.amazonaws.com/yelp_academic_dataset_business.json\n",
            "Resolving nu-cs326-msai339.s3.us-east-1.amazonaws.com (nu-cs326-msai339.s3.us-east-1.amazonaws.com)... 16.15.188.253, 52.217.112.114, 52.216.113.190, ...\n",
            "Connecting to nu-cs326-msai339.s3.us-east-1.amazonaws.com (nu-cs326-msai339.s3.us-east-1.amazonaws.com)|16.15.188.253|:443... connected.\n",
            "HTTP request sent, awaiting response... 200 OK\n",
            "Length: 118833712 (113M) [application/json]\n",
            "Saving to: ‘yelp_academic_dataset_business.json.1’\n",
            "\n",
            "yelp_academic_datas 100%[===================>] 113.33M  59.5MB/s    in 1.9s    \n",
            "\n",
            "2025-10-05 02:49:39 (59.5 MB/s) - ‘yelp_academic_dataset_business.json.1’ saved [118833712/118833712]\n",
            "\n"
          ]
        }
      ]
    },
    {
      "cell_type": "markdown",
      "metadata": {
        "id": "khb79DDUvc3p"
      },
      "source": [
        "## Load data to pandas DataFrames."
      ]
    },
    {
      "cell_type": "code",
      "execution_count": 58,
      "metadata": {
        "id": "taZYzilkvc3q"
      },
      "outputs": [],
      "source": [
        "df_user = pd.read_json(\"yelp_academic_dataset_user_no_friend.json\", lines=True)"
      ]
    },
    {
      "cell_type": "code",
      "source": [
        "df_bussiness = pd.read_json('yelp_academic_dataset_business.json', lines=True)"
      ],
      "metadata": {
        "id": "8QaXoKw4R39_"
      },
      "execution_count": 59,
      "outputs": []
    },
    {
      "cell_type": "code",
      "source": [
        "# to browse the dataframe df_user\n",
        "df_user.head()"
      ],
      "metadata": {
        "id": "u9coKTz2pgW-",
        "outputId": "e567a0d1-3ad2-42a5-aa55-8252e0d6bec7",
        "colab": {
          "base_uri": "https://localhost:8080/",
          "height": 342
        }
      },
      "execution_count": 60,
      "outputs": [
        {
          "output_type": "execute_result",
          "data": {
            "text/plain": [
              "                  user_id    name  review_count        yelping_since  useful  \\\n",
              "0  qVc8ODYU5SZjKXVBgXdI7w  Walker           585  2007-01-25 16:47:26    7217   \n",
              "1  j14WgRoU_-2ZE1aw1dXrJg  Daniel          4333  2009-01-25 04:35:42   43091   \n",
              "2  2WnXYQFK0hXEoTxPtV2zvg   Steph           665  2008-07-25 10:41:00    2086   \n",
              "3  SZDeASXq7o05mMNLshsdIA    Gwen           224  2005-11-29 04:38:33     512   \n",
              "4  hA5lMy-EnncsH4JoR-hFGQ   Karen            79  2007-01-05 19:40:59      29   \n",
              "\n",
              "   funny   cool                                              elite  fans  \\\n",
              "0   1259   5994                                               2007   267   \n",
              "1  13066  27281  2009,2010,2011,2012,2013,2014,2015,2016,2017,2...  3138   \n",
              "2   1010   1003                           2009,2010,2011,2012,2013    52   \n",
              "3    330    299                                     2009,2010,2011    28   \n",
              "4     15      7                                                        1   \n",
              "\n",
              "   average_stars  ...  compliment_more  compliment_profile  compliment_cute  \\\n",
              "0           3.91  ...               65                  55               56   \n",
              "1           3.74  ...              264                 184              157   \n",
              "2           3.32  ...               13                  10               17   \n",
              "3           4.27  ...                4                   1                6   \n",
              "4           3.54  ...                1                   0                0   \n",
              "\n",
              "   compliment_list  compliment_note  compliment_plain  compliment_cool  \\\n",
              "0               18              232               844              467   \n",
              "1              251             1847              7054             3131   \n",
              "2                3               66                96              119   \n",
              "3                2               12                16               26   \n",
              "4                0                1                 1                0   \n",
              "\n",
              "   compliment_funny  compliment_writer  compliment_photos  \n",
              "0               467                239                180  \n",
              "1              3131               1521               1946  \n",
              "2               119                 35                 18  \n",
              "3                26                 10                  9  \n",
              "4                 0                  0                  0  \n",
              "\n",
              "[5 rows x 21 columns]"
            ],
            "text/html": [
              "\n",
              "  <div id=\"df-a9ca89ed-b93a-4a8a-8eb5-0eb54fa67a59\" class=\"colab-df-container\">\n",
              "    <div>\n",
              "<style scoped>\n",
              "    .dataframe tbody tr th:only-of-type {\n",
              "        vertical-align: middle;\n",
              "    }\n",
              "\n",
              "    .dataframe tbody tr th {\n",
              "        vertical-align: top;\n",
              "    }\n",
              "\n",
              "    .dataframe thead th {\n",
              "        text-align: right;\n",
              "    }\n",
              "</style>\n",
              "<table border=\"1\" class=\"dataframe\">\n",
              "  <thead>\n",
              "    <tr style=\"text-align: right;\">\n",
              "      <th></th>\n",
              "      <th>user_id</th>\n",
              "      <th>name</th>\n",
              "      <th>review_count</th>\n",
              "      <th>yelping_since</th>\n",
              "      <th>useful</th>\n",
              "      <th>funny</th>\n",
              "      <th>cool</th>\n",
              "      <th>elite</th>\n",
              "      <th>fans</th>\n",
              "      <th>average_stars</th>\n",
              "      <th>...</th>\n",
              "      <th>compliment_more</th>\n",
              "      <th>compliment_profile</th>\n",
              "      <th>compliment_cute</th>\n",
              "      <th>compliment_list</th>\n",
              "      <th>compliment_note</th>\n",
              "      <th>compliment_plain</th>\n",
              "      <th>compliment_cool</th>\n",
              "      <th>compliment_funny</th>\n",
              "      <th>compliment_writer</th>\n",
              "      <th>compliment_photos</th>\n",
              "    </tr>\n",
              "  </thead>\n",
              "  <tbody>\n",
              "    <tr>\n",
              "      <th>0</th>\n",
              "      <td>qVc8ODYU5SZjKXVBgXdI7w</td>\n",
              "      <td>Walker</td>\n",
              "      <td>585</td>\n",
              "      <td>2007-01-25 16:47:26</td>\n",
              "      <td>7217</td>\n",
              "      <td>1259</td>\n",
              "      <td>5994</td>\n",
              "      <td>2007</td>\n",
              "      <td>267</td>\n",
              "      <td>3.91</td>\n",
              "      <td>...</td>\n",
              "      <td>65</td>\n",
              "      <td>55</td>\n",
              "      <td>56</td>\n",
              "      <td>18</td>\n",
              "      <td>232</td>\n",
              "      <td>844</td>\n",
              "      <td>467</td>\n",
              "      <td>467</td>\n",
              "      <td>239</td>\n",
              "      <td>180</td>\n",
              "    </tr>\n",
              "    <tr>\n",
              "      <th>1</th>\n",
              "      <td>j14WgRoU_-2ZE1aw1dXrJg</td>\n",
              "      <td>Daniel</td>\n",
              "      <td>4333</td>\n",
              "      <td>2009-01-25 04:35:42</td>\n",
              "      <td>43091</td>\n",
              "      <td>13066</td>\n",
              "      <td>27281</td>\n",
              "      <td>2009,2010,2011,2012,2013,2014,2015,2016,2017,2...</td>\n",
              "      <td>3138</td>\n",
              "      <td>3.74</td>\n",
              "      <td>...</td>\n",
              "      <td>264</td>\n",
              "      <td>184</td>\n",
              "      <td>157</td>\n",
              "      <td>251</td>\n",
              "      <td>1847</td>\n",
              "      <td>7054</td>\n",
              "      <td>3131</td>\n",
              "      <td>3131</td>\n",
              "      <td>1521</td>\n",
              "      <td>1946</td>\n",
              "    </tr>\n",
              "    <tr>\n",
              "      <th>2</th>\n",
              "      <td>2WnXYQFK0hXEoTxPtV2zvg</td>\n",
              "      <td>Steph</td>\n",
              "      <td>665</td>\n",
              "      <td>2008-07-25 10:41:00</td>\n",
              "      <td>2086</td>\n",
              "      <td>1010</td>\n",
              "      <td>1003</td>\n",
              "      <td>2009,2010,2011,2012,2013</td>\n",
              "      <td>52</td>\n",
              "      <td>3.32</td>\n",
              "      <td>...</td>\n",
              "      <td>13</td>\n",
              "      <td>10</td>\n",
              "      <td>17</td>\n",
              "      <td>3</td>\n",
              "      <td>66</td>\n",
              "      <td>96</td>\n",
              "      <td>119</td>\n",
              "      <td>119</td>\n",
              "      <td>35</td>\n",
              "      <td>18</td>\n",
              "    </tr>\n",
              "    <tr>\n",
              "      <th>3</th>\n",
              "      <td>SZDeASXq7o05mMNLshsdIA</td>\n",
              "      <td>Gwen</td>\n",
              "      <td>224</td>\n",
              "      <td>2005-11-29 04:38:33</td>\n",
              "      <td>512</td>\n",
              "      <td>330</td>\n",
              "      <td>299</td>\n",
              "      <td>2009,2010,2011</td>\n",
              "      <td>28</td>\n",
              "      <td>4.27</td>\n",
              "      <td>...</td>\n",
              "      <td>4</td>\n",
              "      <td>1</td>\n",
              "      <td>6</td>\n",
              "      <td>2</td>\n",
              "      <td>12</td>\n",
              "      <td>16</td>\n",
              "      <td>26</td>\n",
              "      <td>26</td>\n",
              "      <td>10</td>\n",
              "      <td>9</td>\n",
              "    </tr>\n",
              "    <tr>\n",
              "      <th>4</th>\n",
              "      <td>hA5lMy-EnncsH4JoR-hFGQ</td>\n",
              "      <td>Karen</td>\n",
              "      <td>79</td>\n",
              "      <td>2007-01-05 19:40:59</td>\n",
              "      <td>29</td>\n",
              "      <td>15</td>\n",
              "      <td>7</td>\n",
              "      <td></td>\n",
              "      <td>1</td>\n",
              "      <td>3.54</td>\n",
              "      <td>...</td>\n",
              "      <td>1</td>\n",
              "      <td>0</td>\n",
              "      <td>0</td>\n",
              "      <td>0</td>\n",
              "      <td>1</td>\n",
              "      <td>1</td>\n",
              "      <td>0</td>\n",
              "      <td>0</td>\n",
              "      <td>0</td>\n",
              "      <td>0</td>\n",
              "    </tr>\n",
              "  </tbody>\n",
              "</table>\n",
              "<p>5 rows × 21 columns</p>\n",
              "</div>\n",
              "    <div class=\"colab-df-buttons\">\n",
              "\n",
              "  <div class=\"colab-df-container\">\n",
              "    <button class=\"colab-df-convert\" onclick=\"convertToInteractive('df-a9ca89ed-b93a-4a8a-8eb5-0eb54fa67a59')\"\n",
              "            title=\"Convert this dataframe to an interactive table.\"\n",
              "            style=\"display:none;\">\n",
              "\n",
              "  <svg xmlns=\"http://www.w3.org/2000/svg\" height=\"24px\" viewBox=\"0 -960 960 960\">\n",
              "    <path d=\"M120-120v-720h720v720H120Zm60-500h600v-160H180v160Zm220 220h160v-160H400v160Zm0 220h160v-160H400v160ZM180-400h160v-160H180v160Zm440 0h160v-160H620v160ZM180-180h160v-160H180v160Zm440 0h160v-160H620v160Z\"/>\n",
              "  </svg>\n",
              "    </button>\n",
              "\n",
              "  <style>\n",
              "    .colab-df-container {\n",
              "      display:flex;\n",
              "      gap: 12px;\n",
              "    }\n",
              "\n",
              "    .colab-df-convert {\n",
              "      background-color: #E8F0FE;\n",
              "      border: none;\n",
              "      border-radius: 50%;\n",
              "      cursor: pointer;\n",
              "      display: none;\n",
              "      fill: #1967D2;\n",
              "      height: 32px;\n",
              "      padding: 0 0 0 0;\n",
              "      width: 32px;\n",
              "    }\n",
              "\n",
              "    .colab-df-convert:hover {\n",
              "      background-color: #E2EBFA;\n",
              "      box-shadow: 0px 1px 2px rgba(60, 64, 67, 0.3), 0px 1px 3px 1px rgba(60, 64, 67, 0.15);\n",
              "      fill: #174EA6;\n",
              "    }\n",
              "\n",
              "    .colab-df-buttons div {\n",
              "      margin-bottom: 4px;\n",
              "    }\n",
              "\n",
              "    [theme=dark] .colab-df-convert {\n",
              "      background-color: #3B4455;\n",
              "      fill: #D2E3FC;\n",
              "    }\n",
              "\n",
              "    [theme=dark] .colab-df-convert:hover {\n",
              "      background-color: #434B5C;\n",
              "      box-shadow: 0px 1px 3px 1px rgba(0, 0, 0, 0.15);\n",
              "      filter: drop-shadow(0px 1px 2px rgba(0, 0, 0, 0.3));\n",
              "      fill: #FFFFFF;\n",
              "    }\n",
              "  </style>\n",
              "\n",
              "    <script>\n",
              "      const buttonEl =\n",
              "        document.querySelector('#df-a9ca89ed-b93a-4a8a-8eb5-0eb54fa67a59 button.colab-df-convert');\n",
              "      buttonEl.style.display =\n",
              "        google.colab.kernel.accessAllowed ? 'block' : 'none';\n",
              "\n",
              "      async function convertToInteractive(key) {\n",
              "        const element = document.querySelector('#df-a9ca89ed-b93a-4a8a-8eb5-0eb54fa67a59');\n",
              "        const dataTable =\n",
              "          await google.colab.kernel.invokeFunction('convertToInteractive',\n",
              "                                                    [key], {});\n",
              "        if (!dataTable) return;\n",
              "\n",
              "        const docLinkHtml = 'Like what you see? Visit the ' +\n",
              "          '<a target=\"_blank\" href=https://colab.research.google.com/notebooks/data_table.ipynb>data table notebook</a>'\n",
              "          + ' to learn more about interactive tables.';\n",
              "        element.innerHTML = '';\n",
              "        dataTable['output_type'] = 'display_data';\n",
              "        await google.colab.output.renderOutput(dataTable, element);\n",
              "        const docLink = document.createElement('div');\n",
              "        docLink.innerHTML = docLinkHtml;\n",
              "        element.appendChild(docLink);\n",
              "      }\n",
              "    </script>\n",
              "  </div>\n",
              "\n",
              "\n",
              "    <div id=\"df-5e7dd210-900e-424b-9340-8a9e2c983755\">\n",
              "      <button class=\"colab-df-quickchart\" onclick=\"quickchart('df-5e7dd210-900e-424b-9340-8a9e2c983755')\"\n",
              "                title=\"Suggest charts\"\n",
              "                style=\"display:none;\">\n",
              "\n",
              "<svg xmlns=\"http://www.w3.org/2000/svg\" height=\"24px\"viewBox=\"0 0 24 24\"\n",
              "     width=\"24px\">\n",
              "    <g>\n",
              "        <path d=\"M19 3H5c-1.1 0-2 .9-2 2v14c0 1.1.9 2 2 2h14c1.1 0 2-.9 2-2V5c0-1.1-.9-2-2-2zM9 17H7v-7h2v7zm4 0h-2V7h2v10zm4 0h-2v-4h2v4z\"/>\n",
              "    </g>\n",
              "</svg>\n",
              "      </button>\n",
              "\n",
              "<style>\n",
              "  .colab-df-quickchart {\n",
              "      --bg-color: #E8F0FE;\n",
              "      --fill-color: #1967D2;\n",
              "      --hover-bg-color: #E2EBFA;\n",
              "      --hover-fill-color: #174EA6;\n",
              "      --disabled-fill-color: #AAA;\n",
              "      --disabled-bg-color: #DDD;\n",
              "  }\n",
              "\n",
              "  [theme=dark] .colab-df-quickchart {\n",
              "      --bg-color: #3B4455;\n",
              "      --fill-color: #D2E3FC;\n",
              "      --hover-bg-color: #434B5C;\n",
              "      --hover-fill-color: #FFFFFF;\n",
              "      --disabled-bg-color: #3B4455;\n",
              "      --disabled-fill-color: #666;\n",
              "  }\n",
              "\n",
              "  .colab-df-quickchart {\n",
              "    background-color: var(--bg-color);\n",
              "    border: none;\n",
              "    border-radius: 50%;\n",
              "    cursor: pointer;\n",
              "    display: none;\n",
              "    fill: var(--fill-color);\n",
              "    height: 32px;\n",
              "    padding: 0;\n",
              "    width: 32px;\n",
              "  }\n",
              "\n",
              "  .colab-df-quickchart:hover {\n",
              "    background-color: var(--hover-bg-color);\n",
              "    box-shadow: 0 1px 2px rgba(60, 64, 67, 0.3), 0 1px 3px 1px rgba(60, 64, 67, 0.15);\n",
              "    fill: var(--button-hover-fill-color);\n",
              "  }\n",
              "\n",
              "  .colab-df-quickchart-complete:disabled,\n",
              "  .colab-df-quickchart-complete:disabled:hover {\n",
              "    background-color: var(--disabled-bg-color);\n",
              "    fill: var(--disabled-fill-color);\n",
              "    box-shadow: none;\n",
              "  }\n",
              "\n",
              "  .colab-df-spinner {\n",
              "    border: 2px solid var(--fill-color);\n",
              "    border-color: transparent;\n",
              "    border-bottom-color: var(--fill-color);\n",
              "    animation:\n",
              "      spin 1s steps(1) infinite;\n",
              "  }\n",
              "\n",
              "  @keyframes spin {\n",
              "    0% {\n",
              "      border-color: transparent;\n",
              "      border-bottom-color: var(--fill-color);\n",
              "      border-left-color: var(--fill-color);\n",
              "    }\n",
              "    20% {\n",
              "      border-color: transparent;\n",
              "      border-left-color: var(--fill-color);\n",
              "      border-top-color: var(--fill-color);\n",
              "    }\n",
              "    30% {\n",
              "      border-color: transparent;\n",
              "      border-left-color: var(--fill-color);\n",
              "      border-top-color: var(--fill-color);\n",
              "      border-right-color: var(--fill-color);\n",
              "    }\n",
              "    40% {\n",
              "      border-color: transparent;\n",
              "      border-right-color: var(--fill-color);\n",
              "      border-top-color: var(--fill-color);\n",
              "    }\n",
              "    60% {\n",
              "      border-color: transparent;\n",
              "      border-right-color: var(--fill-color);\n",
              "    }\n",
              "    80% {\n",
              "      border-color: transparent;\n",
              "      border-right-color: var(--fill-color);\n",
              "      border-bottom-color: var(--fill-color);\n",
              "    }\n",
              "    90% {\n",
              "      border-color: transparent;\n",
              "      border-bottom-color: var(--fill-color);\n",
              "    }\n",
              "  }\n",
              "</style>\n",
              "\n",
              "      <script>\n",
              "        async function quickchart(key) {\n",
              "          const quickchartButtonEl =\n",
              "            document.querySelector('#' + key + ' button');\n",
              "          quickchartButtonEl.disabled = true;  // To prevent multiple clicks.\n",
              "          quickchartButtonEl.classList.add('colab-df-spinner');\n",
              "          try {\n",
              "            const charts = await google.colab.kernel.invokeFunction(\n",
              "                'suggestCharts', [key], {});\n",
              "          } catch (error) {\n",
              "            console.error('Error during call to suggestCharts:', error);\n",
              "          }\n",
              "          quickchartButtonEl.classList.remove('colab-df-spinner');\n",
              "          quickchartButtonEl.classList.add('colab-df-quickchart-complete');\n",
              "        }\n",
              "        (() => {\n",
              "          let quickchartButtonEl =\n",
              "            document.querySelector('#df-5e7dd210-900e-424b-9340-8a9e2c983755 button');\n",
              "          quickchartButtonEl.style.display =\n",
              "            google.colab.kernel.accessAllowed ? 'block' : 'none';\n",
              "        })();\n",
              "      </script>\n",
              "    </div>\n",
              "\n",
              "    </div>\n",
              "  </div>\n"
            ],
            "application/vnd.google.colaboratory.intrinsic+json": {
              "type": "dataframe",
              "variable_name": "df_user"
            }
          },
          "metadata": {},
          "execution_count": 60
        }
      ]
    },
    {
      "cell_type": "code",
      "source": [
        "# to browse the dataframe df_bussiness\n",
        "df_bussiness.head()"
      ],
      "metadata": {
        "id": "tX5zW-xEpo3E",
        "outputId": "ae4711e1-91eb-491f-fa3b-b12f527e95f2",
        "colab": {
          "base_uri": "https://localhost:8080/",
          "height": 556
        }
      },
      "execution_count": 61,
      "outputs": [
        {
          "output_type": "execute_result",
          "data": {
            "text/plain": [
              "              business_id                      name  \\\n",
              "0  Pns2l4eNsfO8kk83dixA6A  Abby Rappoport, LAC, CMQ   \n",
              "1  mpf3x-BjTdTEA3yCZrAYPw             The UPS Store   \n",
              "2  tUFrWirKiKi_TAnsVWINQQ                    Target   \n",
              "3  MTSW4McQd7CbVtyjqoe9mw        St Honore Pastries   \n",
              "4  mWMc6_wTdE0EUBKIGXDVfA  Perkiomen Valley Brewery   \n",
              "\n",
              "                           address           city state postal_code  \\\n",
              "0           1616 Chapala St, Ste 2  Santa Barbara    CA       93101   \n",
              "1  87 Grasso Plaza Shopping Center         Affton    MO       63123   \n",
              "2             5255 E Broadway Blvd         Tucson    AZ       85711   \n",
              "3                      935 Race St   Philadelphia    PA       19107   \n",
              "4                    101 Walnut St     Green Lane    PA       18054   \n",
              "\n",
              "    latitude   longitude  stars  review_count  is_open  \\\n",
              "0  34.426679 -119.711197    5.0             7        0   \n",
              "1  38.551126  -90.335695    3.0            15        1   \n",
              "2  32.223236 -110.880452    3.5            22        0   \n",
              "3  39.955505  -75.155564    4.0            80        1   \n",
              "4  40.338183  -75.471659    4.5            13        1   \n",
              "\n",
              "                                          attributes  \\\n",
              "0                      {'ByAppointmentOnly': 'True'}   \n",
              "1             {'BusinessAcceptsCreditCards': 'True'}   \n",
              "2  {'BikeParking': 'True', 'BusinessAcceptsCredit...   \n",
              "3  {'RestaurantsDelivery': 'False', 'OutdoorSeati...   \n",
              "4  {'BusinessAcceptsCreditCards': 'True', 'Wheelc...   \n",
              "\n",
              "                                          categories  \\\n",
              "0  Doctors, Traditional Chinese Medicine, Naturop...   \n",
              "1  Shipping Centers, Local Services, Notaries, Ma...   \n",
              "2  Department Stores, Shopping, Fashion, Home & G...   \n",
              "3  Restaurants, Food, Bubble Tea, Coffee & Tea, B...   \n",
              "4                          Brewpubs, Breweries, Food   \n",
              "\n",
              "                                               hours  \n",
              "0                                               None  \n",
              "1  {'Monday': '0:0-0:0', 'Tuesday': '8:0-18:30', ...  \n",
              "2  {'Monday': '8:0-22:0', 'Tuesday': '8:0-22:0', ...  \n",
              "3  {'Monday': '7:0-20:0', 'Tuesday': '7:0-20:0', ...  \n",
              "4  {'Wednesday': '14:0-22:0', 'Thursday': '16:0-2...  "
            ],
            "text/html": [
              "\n",
              "  <div id=\"df-2f6c3cb2-915a-43f4-9539-fdc67b58d244\" class=\"colab-df-container\">\n",
              "    <div>\n",
              "<style scoped>\n",
              "    .dataframe tbody tr th:only-of-type {\n",
              "        vertical-align: middle;\n",
              "    }\n",
              "\n",
              "    .dataframe tbody tr th {\n",
              "        vertical-align: top;\n",
              "    }\n",
              "\n",
              "    .dataframe thead th {\n",
              "        text-align: right;\n",
              "    }\n",
              "</style>\n",
              "<table border=\"1\" class=\"dataframe\">\n",
              "  <thead>\n",
              "    <tr style=\"text-align: right;\">\n",
              "      <th></th>\n",
              "      <th>business_id</th>\n",
              "      <th>name</th>\n",
              "      <th>address</th>\n",
              "      <th>city</th>\n",
              "      <th>state</th>\n",
              "      <th>postal_code</th>\n",
              "      <th>latitude</th>\n",
              "      <th>longitude</th>\n",
              "      <th>stars</th>\n",
              "      <th>review_count</th>\n",
              "      <th>is_open</th>\n",
              "      <th>attributes</th>\n",
              "      <th>categories</th>\n",
              "      <th>hours</th>\n",
              "    </tr>\n",
              "  </thead>\n",
              "  <tbody>\n",
              "    <tr>\n",
              "      <th>0</th>\n",
              "      <td>Pns2l4eNsfO8kk83dixA6A</td>\n",
              "      <td>Abby Rappoport, LAC, CMQ</td>\n",
              "      <td>1616 Chapala St, Ste 2</td>\n",
              "      <td>Santa Barbara</td>\n",
              "      <td>CA</td>\n",
              "      <td>93101</td>\n",
              "      <td>34.426679</td>\n",
              "      <td>-119.711197</td>\n",
              "      <td>5.0</td>\n",
              "      <td>7</td>\n",
              "      <td>0</td>\n",
              "      <td>{'ByAppointmentOnly': 'True'}</td>\n",
              "      <td>Doctors, Traditional Chinese Medicine, Naturop...</td>\n",
              "      <td>None</td>\n",
              "    </tr>\n",
              "    <tr>\n",
              "      <th>1</th>\n",
              "      <td>mpf3x-BjTdTEA3yCZrAYPw</td>\n",
              "      <td>The UPS Store</td>\n",
              "      <td>87 Grasso Plaza Shopping Center</td>\n",
              "      <td>Affton</td>\n",
              "      <td>MO</td>\n",
              "      <td>63123</td>\n",
              "      <td>38.551126</td>\n",
              "      <td>-90.335695</td>\n",
              "      <td>3.0</td>\n",
              "      <td>15</td>\n",
              "      <td>1</td>\n",
              "      <td>{'BusinessAcceptsCreditCards': 'True'}</td>\n",
              "      <td>Shipping Centers, Local Services, Notaries, Ma...</td>\n",
              "      <td>{'Monday': '0:0-0:0', 'Tuesday': '8:0-18:30', ...</td>\n",
              "    </tr>\n",
              "    <tr>\n",
              "      <th>2</th>\n",
              "      <td>tUFrWirKiKi_TAnsVWINQQ</td>\n",
              "      <td>Target</td>\n",
              "      <td>5255 E Broadway Blvd</td>\n",
              "      <td>Tucson</td>\n",
              "      <td>AZ</td>\n",
              "      <td>85711</td>\n",
              "      <td>32.223236</td>\n",
              "      <td>-110.880452</td>\n",
              "      <td>3.5</td>\n",
              "      <td>22</td>\n",
              "      <td>0</td>\n",
              "      <td>{'BikeParking': 'True', 'BusinessAcceptsCredit...</td>\n",
              "      <td>Department Stores, Shopping, Fashion, Home &amp; G...</td>\n",
              "      <td>{'Monday': '8:0-22:0', 'Tuesday': '8:0-22:0', ...</td>\n",
              "    </tr>\n",
              "    <tr>\n",
              "      <th>3</th>\n",
              "      <td>MTSW4McQd7CbVtyjqoe9mw</td>\n",
              "      <td>St Honore Pastries</td>\n",
              "      <td>935 Race St</td>\n",
              "      <td>Philadelphia</td>\n",
              "      <td>PA</td>\n",
              "      <td>19107</td>\n",
              "      <td>39.955505</td>\n",
              "      <td>-75.155564</td>\n",
              "      <td>4.0</td>\n",
              "      <td>80</td>\n",
              "      <td>1</td>\n",
              "      <td>{'RestaurantsDelivery': 'False', 'OutdoorSeati...</td>\n",
              "      <td>Restaurants, Food, Bubble Tea, Coffee &amp; Tea, B...</td>\n",
              "      <td>{'Monday': '7:0-20:0', 'Tuesday': '7:0-20:0', ...</td>\n",
              "    </tr>\n",
              "    <tr>\n",
              "      <th>4</th>\n",
              "      <td>mWMc6_wTdE0EUBKIGXDVfA</td>\n",
              "      <td>Perkiomen Valley Brewery</td>\n",
              "      <td>101 Walnut St</td>\n",
              "      <td>Green Lane</td>\n",
              "      <td>PA</td>\n",
              "      <td>18054</td>\n",
              "      <td>40.338183</td>\n",
              "      <td>-75.471659</td>\n",
              "      <td>4.5</td>\n",
              "      <td>13</td>\n",
              "      <td>1</td>\n",
              "      <td>{'BusinessAcceptsCreditCards': 'True', 'Wheelc...</td>\n",
              "      <td>Brewpubs, Breweries, Food</td>\n",
              "      <td>{'Wednesday': '14:0-22:0', 'Thursday': '16:0-2...</td>\n",
              "    </tr>\n",
              "  </tbody>\n",
              "</table>\n",
              "</div>\n",
              "    <div class=\"colab-df-buttons\">\n",
              "\n",
              "  <div class=\"colab-df-container\">\n",
              "    <button class=\"colab-df-convert\" onclick=\"convertToInteractive('df-2f6c3cb2-915a-43f4-9539-fdc67b58d244')\"\n",
              "            title=\"Convert this dataframe to an interactive table.\"\n",
              "            style=\"display:none;\">\n",
              "\n",
              "  <svg xmlns=\"http://www.w3.org/2000/svg\" height=\"24px\" viewBox=\"0 -960 960 960\">\n",
              "    <path d=\"M120-120v-720h720v720H120Zm60-500h600v-160H180v160Zm220 220h160v-160H400v160Zm0 220h160v-160H400v160ZM180-400h160v-160H180v160Zm440 0h160v-160H620v160ZM180-180h160v-160H180v160Zm440 0h160v-160H620v160Z\"/>\n",
              "  </svg>\n",
              "    </button>\n",
              "\n",
              "  <style>\n",
              "    .colab-df-container {\n",
              "      display:flex;\n",
              "      gap: 12px;\n",
              "    }\n",
              "\n",
              "    .colab-df-convert {\n",
              "      background-color: #E8F0FE;\n",
              "      border: none;\n",
              "      border-radius: 50%;\n",
              "      cursor: pointer;\n",
              "      display: none;\n",
              "      fill: #1967D2;\n",
              "      height: 32px;\n",
              "      padding: 0 0 0 0;\n",
              "      width: 32px;\n",
              "    }\n",
              "\n",
              "    .colab-df-convert:hover {\n",
              "      background-color: #E2EBFA;\n",
              "      box-shadow: 0px 1px 2px rgba(60, 64, 67, 0.3), 0px 1px 3px 1px rgba(60, 64, 67, 0.15);\n",
              "      fill: #174EA6;\n",
              "    }\n",
              "\n",
              "    .colab-df-buttons div {\n",
              "      margin-bottom: 4px;\n",
              "    }\n",
              "\n",
              "    [theme=dark] .colab-df-convert {\n",
              "      background-color: #3B4455;\n",
              "      fill: #D2E3FC;\n",
              "    }\n",
              "\n",
              "    [theme=dark] .colab-df-convert:hover {\n",
              "      background-color: #434B5C;\n",
              "      box-shadow: 0px 1px 3px 1px rgba(0, 0, 0, 0.15);\n",
              "      filter: drop-shadow(0px 1px 2px rgba(0, 0, 0, 0.3));\n",
              "      fill: #FFFFFF;\n",
              "    }\n",
              "  </style>\n",
              "\n",
              "    <script>\n",
              "      const buttonEl =\n",
              "        document.querySelector('#df-2f6c3cb2-915a-43f4-9539-fdc67b58d244 button.colab-df-convert');\n",
              "      buttonEl.style.display =\n",
              "        google.colab.kernel.accessAllowed ? 'block' : 'none';\n",
              "\n",
              "      async function convertToInteractive(key) {\n",
              "        const element = document.querySelector('#df-2f6c3cb2-915a-43f4-9539-fdc67b58d244');\n",
              "        const dataTable =\n",
              "          await google.colab.kernel.invokeFunction('convertToInteractive',\n",
              "                                                    [key], {});\n",
              "        if (!dataTable) return;\n",
              "\n",
              "        const docLinkHtml = 'Like what you see? Visit the ' +\n",
              "          '<a target=\"_blank\" href=https://colab.research.google.com/notebooks/data_table.ipynb>data table notebook</a>'\n",
              "          + ' to learn more about interactive tables.';\n",
              "        element.innerHTML = '';\n",
              "        dataTable['output_type'] = 'display_data';\n",
              "        await google.colab.output.renderOutput(dataTable, element);\n",
              "        const docLink = document.createElement('div');\n",
              "        docLink.innerHTML = docLinkHtml;\n",
              "        element.appendChild(docLink);\n",
              "      }\n",
              "    </script>\n",
              "  </div>\n",
              "\n",
              "\n",
              "    <div id=\"df-3bc9826e-26b2-4a60-ac3b-fd6b61842551\">\n",
              "      <button class=\"colab-df-quickchart\" onclick=\"quickchart('df-3bc9826e-26b2-4a60-ac3b-fd6b61842551')\"\n",
              "                title=\"Suggest charts\"\n",
              "                style=\"display:none;\">\n",
              "\n",
              "<svg xmlns=\"http://www.w3.org/2000/svg\" height=\"24px\"viewBox=\"0 0 24 24\"\n",
              "     width=\"24px\">\n",
              "    <g>\n",
              "        <path d=\"M19 3H5c-1.1 0-2 .9-2 2v14c0 1.1.9 2 2 2h14c1.1 0 2-.9 2-2V5c0-1.1-.9-2-2-2zM9 17H7v-7h2v7zm4 0h-2V7h2v10zm4 0h-2v-4h2v4z\"/>\n",
              "    </g>\n",
              "</svg>\n",
              "      </button>\n",
              "\n",
              "<style>\n",
              "  .colab-df-quickchart {\n",
              "      --bg-color: #E8F0FE;\n",
              "      --fill-color: #1967D2;\n",
              "      --hover-bg-color: #E2EBFA;\n",
              "      --hover-fill-color: #174EA6;\n",
              "      --disabled-fill-color: #AAA;\n",
              "      --disabled-bg-color: #DDD;\n",
              "  }\n",
              "\n",
              "  [theme=dark] .colab-df-quickchart {\n",
              "      --bg-color: #3B4455;\n",
              "      --fill-color: #D2E3FC;\n",
              "      --hover-bg-color: #434B5C;\n",
              "      --hover-fill-color: #FFFFFF;\n",
              "      --disabled-bg-color: #3B4455;\n",
              "      --disabled-fill-color: #666;\n",
              "  }\n",
              "\n",
              "  .colab-df-quickchart {\n",
              "    background-color: var(--bg-color);\n",
              "    border: none;\n",
              "    border-radius: 50%;\n",
              "    cursor: pointer;\n",
              "    display: none;\n",
              "    fill: var(--fill-color);\n",
              "    height: 32px;\n",
              "    padding: 0;\n",
              "    width: 32px;\n",
              "  }\n",
              "\n",
              "  .colab-df-quickchart:hover {\n",
              "    background-color: var(--hover-bg-color);\n",
              "    box-shadow: 0 1px 2px rgba(60, 64, 67, 0.3), 0 1px 3px 1px rgba(60, 64, 67, 0.15);\n",
              "    fill: var(--button-hover-fill-color);\n",
              "  }\n",
              "\n",
              "  .colab-df-quickchart-complete:disabled,\n",
              "  .colab-df-quickchart-complete:disabled:hover {\n",
              "    background-color: var(--disabled-bg-color);\n",
              "    fill: var(--disabled-fill-color);\n",
              "    box-shadow: none;\n",
              "  }\n",
              "\n",
              "  .colab-df-spinner {\n",
              "    border: 2px solid var(--fill-color);\n",
              "    border-color: transparent;\n",
              "    border-bottom-color: var(--fill-color);\n",
              "    animation:\n",
              "      spin 1s steps(1) infinite;\n",
              "  }\n",
              "\n",
              "  @keyframes spin {\n",
              "    0% {\n",
              "      border-color: transparent;\n",
              "      border-bottom-color: var(--fill-color);\n",
              "      border-left-color: var(--fill-color);\n",
              "    }\n",
              "    20% {\n",
              "      border-color: transparent;\n",
              "      border-left-color: var(--fill-color);\n",
              "      border-top-color: var(--fill-color);\n",
              "    }\n",
              "    30% {\n",
              "      border-color: transparent;\n",
              "      border-left-color: var(--fill-color);\n",
              "      border-top-color: var(--fill-color);\n",
              "      border-right-color: var(--fill-color);\n",
              "    }\n",
              "    40% {\n",
              "      border-color: transparent;\n",
              "      border-right-color: var(--fill-color);\n",
              "      border-top-color: var(--fill-color);\n",
              "    }\n",
              "    60% {\n",
              "      border-color: transparent;\n",
              "      border-right-color: var(--fill-color);\n",
              "    }\n",
              "    80% {\n",
              "      border-color: transparent;\n",
              "      border-right-color: var(--fill-color);\n",
              "      border-bottom-color: var(--fill-color);\n",
              "    }\n",
              "    90% {\n",
              "      border-color: transparent;\n",
              "      border-bottom-color: var(--fill-color);\n",
              "    }\n",
              "  }\n",
              "</style>\n",
              "\n",
              "      <script>\n",
              "        async function quickchart(key) {\n",
              "          const quickchartButtonEl =\n",
              "            document.querySelector('#' + key + ' button');\n",
              "          quickchartButtonEl.disabled = true;  // To prevent multiple clicks.\n",
              "          quickchartButtonEl.classList.add('colab-df-spinner');\n",
              "          try {\n",
              "            const charts = await google.colab.kernel.invokeFunction(\n",
              "                'suggestCharts', [key], {});\n",
              "          } catch (error) {\n",
              "            console.error('Error during call to suggestCharts:', error);\n",
              "          }\n",
              "          quickchartButtonEl.classList.remove('colab-df-spinner');\n",
              "          quickchartButtonEl.classList.add('colab-df-quickchart-complete');\n",
              "        }\n",
              "        (() => {\n",
              "          let quickchartButtonEl =\n",
              "            document.querySelector('#df-3bc9826e-26b2-4a60-ac3b-fd6b61842551 button');\n",
              "          quickchartButtonEl.style.display =\n",
              "            google.colab.kernel.accessAllowed ? 'block' : 'none';\n",
              "        })();\n",
              "      </script>\n",
              "    </div>\n",
              "\n",
              "    </div>\n",
              "  </div>\n"
            ],
            "application/vnd.google.colaboratory.intrinsic+json": {
              "type": "dataframe",
              "variable_name": "df_bussiness"
            }
          },
          "metadata": {},
          "execution_count": 61
        }
      ]
    },
    {
      "cell_type": "markdown",
      "metadata": {
        "id": "e-RlpY7cvc3q"
      },
      "source": [
        "## Q1. Correlation coefficient"
      ]
    },
    {
      "cell_type": "markdown",
      "metadata": {
        "id": "mWl_Vdl7vc3q"
      },
      "source": [
        "### Q1a"
      ]
    },
    {
      "cell_type": "code",
      "execution_count": 62,
      "metadata": {
        "id": "gRpI2oRTvc3r"
      },
      "outputs": [],
      "source": [
        "def Q1a():\n",
        "  # input: NA\n",
        "  # return: tuple of the strongest linear pair, the correlation coefficient\n",
        "\n",
        "  # target columns\n",
        "  cols = [\"funny\", \"cool\", \"useful\", \"fans\", \"review_count\"]\n",
        "  subset = df_user[cols]\n",
        "\n",
        "  # correlation matrix\n",
        "  corr_matrix = subset.corr(method='pearson')\n",
        "\n",
        "  # strongest pair\n",
        "  corr_unstack = corr_matrix.unstack()\n",
        "  corr_unstack = corr_unstack[corr_unstack.index.get_level_values(0) != corr_unstack.index.get_level_values(1)]\n",
        "\n",
        "  strongest_pair = corr_unstack.abs().idxmax()\n",
        "  coeff = corr_matrix.loc[strongest_pair]\n",
        "\n",
        "  return strongest_pair, coeff"
      ]
    },
    {
      "cell_type": "code",
      "source": [
        "Q1a()"
      ],
      "metadata": {
        "id": "h5LjAaG3hdTb",
        "outputId": "94415f00-ab76-46e5-e664-f8cfdd4075ca",
        "colab": {
          "base_uri": "https://localhost:8080/"
        }
      },
      "execution_count": 63,
      "outputs": [
        {
          "output_type": "execute_result",
          "data": {
            "text/plain": [
              "(('cool', 'useful'), np.float64(0.9918405554731298))"
            ]
          },
          "metadata": {},
          "execution_count": 63
        }
      ]
    },
    {
      "cell_type": "markdown",
      "metadata": {
        "id": "LUgFwChivc3s"
      },
      "source": [
        "### Q1b"
      ]
    },
    {
      "cell_type": "markdown",
      "metadata": {
        "id": "1o-2otjuvc3t"
      },
      "source": [
        "#### Analysis."
      ]
    },
    {
      "cell_type": "code",
      "execution_count": 64,
      "metadata": {
        "id": "Mw1z9rxNvc3t"
      },
      "outputs": [],
      "source": [
        "from scipy.stats import pearsonr, spearmanr\n",
        "from datetime import datetime\n",
        "\n",
        "def Q1b():\n",
        "  # the number of years the users on Yelp given the year they joined\n",
        "  df_user[\"join_year\"] = pd.to_datetime(df_user['yelping_since']).dt.year\n",
        "  df_user[\"years_joined\"] = datetime.now().year - df_user['join_year']\n",
        "\n",
        "  # pearson and spearmean calculation\n",
        "  pearson, _ = pearsonr(df_user['average_stars'], df_user['years_joined'])\n",
        "  spearman, _ = spearmanr(df_user['average_stars'], df_user['years_joined'])\n",
        "\n",
        "  return pearson, spearman"
      ]
    },
    {
      "cell_type": "code",
      "source": [
        "Q1b()"
      ],
      "metadata": {
        "id": "-0m7j--8heve",
        "outputId": "db9fb87a-fd65-4378-feb9-39fec725688b",
        "colab": {
          "base_uri": "https://localhost:8080/"
        }
      },
      "execution_count": 65,
      "outputs": [
        {
          "output_type": "execute_result",
          "data": {
            "text/plain": [
              "(np.float64(0.11355298812690996), np.float64(0.029865101383489346))"
            ]
          },
          "metadata": {},
          "execution_count": 65
        }
      ]
    },
    {
      "cell_type": "markdown",
      "metadata": {
        "id": "Rbwf0KmAvc3t"
      },
      "source": [
        "#### Conclusions."
      ]
    },
    {
      "cell_type": "code",
      "execution_count": 66,
      "metadata": {
        "id": "nW7T6rVxvc3t"
      },
      "outputs": [],
      "source": [
        "def Q1b_concl():\n",
        "  conclusions = \"Both Pearson and Spearman coefficients are 0.1136 and 0.0299, respectively. This shows a negligible correlation. Thus, the number of years the user was on Yelp and their average rating are not related.\"\n",
        "  return conclusions"
      ]
    },
    {
      "cell_type": "code",
      "source": [
        "Q1b_concl()"
      ],
      "metadata": {
        "id": "J1TycAu6htqO",
        "outputId": "7f40e3bb-58d5-4385-85ca-e8deec58c28f",
        "colab": {
          "base_uri": "https://localhost:8080/",
          "height": 71
        }
      },
      "execution_count": 67,
      "outputs": [
        {
          "output_type": "execute_result",
          "data": {
            "text/plain": [
              "'Both Pearson and Spearman coefficients are 0.1136 and 0.0299, respectively. This shows a negligible correlation. Thus, the number of years the user was on Yelp and their average rating are not related.'"
            ],
            "application/vnd.google.colaboratory.intrinsic+json": {
              "type": "string"
            }
          },
          "metadata": {},
          "execution_count": 67
        }
      ]
    },
    {
      "cell_type": "markdown",
      "metadata": {
        "id": "fAQZRkfjvc3t"
      },
      "source": [
        "### Q1c"
      ]
    },
    {
      "cell_type": "markdown",
      "metadata": {
        "id": "9rOamwXgvc3t"
      },
      "source": [
        "#### Analysis."
      ]
    },
    {
      "cell_type": "code",
      "execution_count": 68,
      "metadata": {
        "id": "vw5tmTJUvc3t"
      },
      "outputs": [],
      "source": [
        "def Q1c():\n",
        "  # the number of years the users was on elite\n",
        "  df_user['years_elite'] = df_user['elite'].apply(lambda x: len(x.split(\",\")) if isinstance(x,str) and x != \"\" else 0)\n",
        "\n",
        "  # pearson and spearmean calculation\n",
        "  pearson, _ = pearsonr(df_user['review_count'], df_user['years_elite'])\n",
        "  spearman, _ = spearmanr(df_user['review_count'], df_user['years_elite'])\n",
        "\n",
        "  return pearson, spearman\n"
      ]
    },
    {
      "cell_type": "code",
      "source": [
        "Q1c()"
      ],
      "metadata": {
        "id": "GzkN2k2or-nR",
        "outputId": "75fe6563-425f-455d-ad22-e211e71d2e83",
        "colab": {
          "base_uri": "https://localhost:8080/"
        }
      },
      "execution_count": 69,
      "outputs": [
        {
          "output_type": "execute_result",
          "data": {
            "text/plain": [
              "(np.float64(0.6944354493467567), np.float64(0.3512441417477128))"
            ]
          },
          "metadata": {},
          "execution_count": 69
        }
      ]
    },
    {
      "cell_type": "markdown",
      "metadata": {
        "id": "7zmjC_Jcvc3t"
      },
      "source": [
        "#### Plot."
      ]
    },
    {
      "cell_type": "code",
      "execution_count": 70,
      "metadata": {
        "id": "KZkH_myqvc3u"
      },
      "outputs": [],
      "source": [
        "def Q1c_plot():\n",
        "  # plot a boxplot\n",
        "  years_elite_sorted = sorted(df_user[\"years_elite\"].unique())\n",
        "  review_counts_by_year = [\n",
        "      df_user.loc[\n",
        "          df_user[\"years_elite\"] == y,\n",
        "          \"review_count\"\n",
        "          ]\n",
        "          for y in years_elite_sorted\n",
        "      ]\n",
        "\n",
        "  plt.figure(figsize=(8,5))\n",
        "  plt.boxplot(review_counts_by_year, labels = years_elite_sorted)\n",
        "  plt.xlabel(\"Years as Elite\")\n",
        "  plt.ylabel(\"Review Count\")\n",
        "  plt.title(\"Review Counts Distribution by Elite Years\")\n",
        "  plt.show()"
      ]
    },
    {
      "cell_type": "code",
      "source": [
        "Q1c_plot()"
      ],
      "metadata": {
        "id": "5EDNuP_HsCML",
        "outputId": "cce9f072-91a7-490f-bedd-636288394f57",
        "colab": {
          "base_uri": "https://localhost:8080/",
          "height": 462
        }
      },
      "execution_count": 71,
      "outputs": [
        {
          "output_type": "stream",
          "name": "stderr",
          "text": [
            "/tmp/ipython-input-1287597944.py:3: MatplotlibDeprecationWarning: The 'labels' parameter of boxplot() has been renamed 'tick_labels' since Matplotlib 3.9; support for the old name will be dropped in 3.11.\n",
            "  plt.boxplot([df_user.loc[df_user[\"years_elite\"] == y, \"review_count\"] for y in sorted(df_user[\"years_elite\"].unique())],\n"
          ]
        },
        {
          "output_type": "display_data",
          "data": {
            "text/plain": [
              "<Figure size 800x500 with 1 Axes>"
            ],
            "image/png": "[encoded data removed]"
          },
          "metadata": {}
        }
      ]
    },
    {
      "cell_type": "markdown",
      "metadata": {
        "id": "Tu8j9roovc3u"
      },
      "source": [
        "#### Conclusions."
      ]
    },
    {
      "cell_type": "code",
      "execution_count": 72,
      "metadata": {
        "id": "jCLm_LQhvc3u"
      },
      "outputs": [],
      "source": [
        "def Q1c_concl():\n",
        "  conclusions = \"The Pearson correlation is about 0.69, illustrating a linear relationship between the review counts and years as elite. At the same time, Spearman correlation is approximately 0.35, which tells us that the relationship is not monotonic. From the boxplot, users with more elite years tend to have more reviews, but the variance grows as the number of elite years increaseses as well.\"\n",
        "  return conclusions"
      ]
    },
    {
      "cell_type": "code",
      "source": [
        "Q1c_concl()"
      ],
      "metadata": {
        "id": "1DHSNp70r5YV",
        "outputId": "c17f8cb0-92f5-4643-a9cc-f887dd12fcd3",
        "colab": {
          "base_uri": "https://localhost:8080/",
          "height": 125
        }
      },
      "execution_count": 73,
      "outputs": [
        {
          "output_type": "execute_result",
          "data": {
            "text/plain": [
              "'The Pearson correlation is about 0.69, illustrating a linear relationship between the review counts and years as elite. At the same time, Spearman correlation is approximately 0.35, which tells us that the relationship is not monotonic. From the boxplot, users with more elite years tend to have more reviews, but the variance grows as the number of elite years increaseses as well.'"
            ],
            "application/vnd.google.colaboratory.intrinsic+json": {
              "type": "string"
            }
          },
          "metadata": {},
          "execution_count": 73
        }
      ]
    },
    {
      "cell_type": "markdown",
      "metadata": {
        "id": "esu9H9kGvc3u"
      },
      "source": [
        "## Q2. Chi Square Test"
      ]
    },
    {
      "cell_type": "markdown",
      "metadata": {
        "id": "fyxsPZrKvc3u"
      },
      "source": [
        "#### Analysis."
      ]
    },
    {
      "cell_type": "code",
      "execution_count": 74,
      "metadata": {
        "id": "cZFDtn42vc3u"
      },
      "outputs": [],
      "source": [
        "from scipy.stats import chi2_contingency\n",
        "def Q2():\n",
        "  # x == 1 is Open\n",
        "  df_bussiness[\"is_open_flag\"] = df_bussiness[\"is_open\"].apply(lambda x: \"Open\" if x == 1 else \"Closed\")\n",
        "\n",
        "  # Greater: stars > 2.5\n",
        "  # Lower: stars <= 2.5\n",
        "  df_bussiness[\"high_rating\"] = df_bussiness[\"stars\"].apply(lambda x: \"Greater\" if x > 2.5 else \"Lower\")\n",
        "\n",
        "  # contingency table\n",
        "  contingency_table = pd.crosstab(df_bussiness[\"is_open_flag\"], df_bussiness[\"high_rating\"])\n",
        "  # chi-square test\n",
        "  chi_square = chi2_contingency(contingency_table)\n",
        "\n",
        "  return contingency_table.values, chi_square"
      ]
    },
    {
      "cell_type": "code",
      "source": [
        "Q2()"
      ],
      "metadata": {
        "id": "ao3wu_XVJftp",
        "outputId": "9cc3fed2-eea9-4a46-f1d1-554ac751f96f",
        "colab": {
          "base_uri": "https://localhost:8080/"
        }
      },
      "execution_count": 75,
      "outputs": [
        {
          "output_type": "execute_result",
          "data": {
            "text/plain": [
              "(array([[24694,  5946],\n",
              "        [94861, 24742]]),\n",
              " Chi2ContingencyResult(statistic=np.float64(24.537911323738985), pvalue=np.float64(7.286202739949841e-07), dof=1, expected_freq=array([[24381.60313625,  6258.39686375],\n",
              "        [95173.39686375, 24429.60313625]])))"
            ]
          },
          "metadata": {},
          "execution_count": 75
        }
      ]
    },
    {
      "cell_type": "markdown",
      "metadata": {
        "id": "5a2Ly1j5vc3u"
      },
      "source": [
        "#### Conclusions."
      ]
    },
    {
      "cell_type": "code",
      "execution_count": 76,
      "metadata": {
        "id": "vdLfBF7gvc3u"
      },
      "outputs": [],
      "source": [
        "def Q2_concl():\n",
        "  conclusions = \"The chi-square test shows that the p-vlaue is around 7.28e-07, which is less than the significant level of 0.05. So, we reject the null hypothesis, thus they are dependent. Businesses with higher ratings are more likely to stay open, and lower ratings are tend to be closed.\"\n",
        "  return conclusions"
      ]
    },
    {
      "cell_type": "code",
      "source": [
        "Q2_concl()"
      ],
      "metadata": {
        "id": "E7PS12lIJj2y",
        "outputId": "43490fee-8c16-47bd-f802-ca15327e00b9",
        "colab": {
          "base_uri": "https://localhost:8080/",
          "height": 89
        }
      },
      "execution_count": 77,
      "outputs": [
        {
          "output_type": "execute_result",
          "data": {
            "text/plain": [
              "'The chi-square test shows that the p-vlaue is around 7.28e-07, which is less than the significant level of 0.05. So, we reject the null hypothesis, thus they are dependent. Businesses with higher ratings are more likely to stay open, and lower ratings are tend to be closed.'"
            ],
            "application/vnd.google.colaboratory.intrinsic+json": {
              "type": "string"
            }
          },
          "metadata": {},
          "execution_count": 77
        }
      ]
    },
    {
      "cell_type": "markdown",
      "metadata": {
        "id": "qh72Hgahvc3u"
      },
      "source": [
        "## Q3. Association rule"
      ]
    },
    {
      "cell_type": "code",
      "source": [
        "#helper function\n",
        "def Q3o():\n",
        "  pass"
      ],
      "metadata": {
        "id": "J-LjWGSCWycA"
      },
      "execution_count": 78,
      "outputs": []
    },
    {
      "cell_type": "markdown",
      "metadata": {
        "id": "8XOKErPOvc3u"
      },
      "source": [
        "### Q3a"
      ]
    },
    {
      "cell_type": "code",
      "execution_count": 79,
      "metadata": {
        "id": "o9PFMVhuvc3u"
      },
      "outputs": [],
      "source": [
        "def Q3a():\n",
        "  pass"
      ]
    },
    {
      "cell_type": "code",
      "execution_count": 80,
      "metadata": {
        "id": "YMm58buwvc3v"
      },
      "outputs": [],
      "source": [
        "Q3a()"
      ]
    },
    {
      "cell_type": "markdown",
      "metadata": {
        "id": "9u4MZtbovc3v"
      },
      "source": [
        "### Q3b"
      ]
    },
    {
      "cell_type": "markdown",
      "metadata": {
        "id": "8rjgRsxFvc3v"
      },
      "source": [
        "#### Analysis."
      ]
    },
    {
      "cell_type": "code",
      "execution_count": 81,
      "metadata": {
        "id": "7w4yhknHvc3v"
      },
      "outputs": [],
      "source": [
        "def Q3b():\n",
        "  pass"
      ]
    },
    {
      "cell_type": "code",
      "source": [
        "Q3b()"
      ],
      "metadata": {
        "id": "8uR-7in5XRUX"
      },
      "execution_count": 82,
      "outputs": []
    },
    {
      "cell_type": "markdown",
      "metadata": {
        "id": "FCcJxx5Svc3v"
      },
      "source": [
        "#### Conclusions."
      ]
    },
    {
      "cell_type": "code",
      "execution_count": 83,
      "metadata": {
        "id": "n7wvBjiovc3v"
      },
      "outputs": [],
      "source": [
        "#TODO: modify the conclusions strings\n",
        "def Q3b_concl():\n",
        "  pass"
      ]
    },
    {
      "cell_type": "code",
      "source": [
        "print(Q3b_concl())"
      ],
      "metadata": {
        "id": "VDtpNceaXWsR",
        "outputId": "68d32baa-3778-440c-978a-f271996dfd90",
        "colab": {
          "base_uri": "https://localhost:8080/"
        }
      },
      "execution_count": 84,
      "outputs": [
        {
          "output_type": "stream",
          "name": "stdout",
          "text": [
            "None\n"
          ]
        }
      ]
    },
    {
      "cell_type": "markdown",
      "metadata": {
        "id": "ND6u3XUAvc3v"
      },
      "source": [
        "## Q4. ANOVA"
      ]
    },
    {
      "cell_type": "markdown",
      "metadata": {
        "tags": [],
        "id": "ZaUwLbjqvc32"
      },
      "source": [
        "### Q4a"
      ]
    },
    {
      "cell_type": "code",
      "source": [
        "#helper function\n",
        "def Q4o():\n",
        "  pass"
      ],
      "metadata": {
        "id": "jnBpaLU9ttqk"
      },
      "execution_count": 85,
      "outputs": []
    },
    {
      "cell_type": "markdown",
      "metadata": {
        "id": "LH7CxiU_vc32"
      },
      "source": [
        "#### Plot."
      ]
    },
    {
      "cell_type": "code",
      "execution_count": 86,
      "metadata": {
        "id": "n2p0gY3Zvc32"
      },
      "outputs": [],
      "source": [
        "def Q4a():\n",
        "  pass\n"
      ]
    },
    {
      "cell_type": "code",
      "source": [
        "Q4a()"
      ],
      "metadata": {
        "id": "e0x0AzZ0vGVn"
      },
      "execution_count": 87,
      "outputs": []
    },
    {
      "cell_type": "markdown",
      "metadata": {
        "id": "6pquZriFvc32"
      },
      "source": [
        "#### Conclusions."
      ]
    },
    {
      "cell_type": "code",
      "execution_count": 88,
      "metadata": {
        "id": "EsOjNQ0Evc32"
      },
      "outputs": [],
      "source": [
        "def Q4a_concl():\n",
        "  pass\n"
      ]
    },
    {
      "cell_type": "code",
      "source": [
        "Q4a_concl()"
      ],
      "metadata": {
        "id": "k6p1PHl_vIDO"
      },
      "execution_count": 89,
      "outputs": []
    },
    {
      "cell_type": "markdown",
      "metadata": {
        "id": "X5c4Q95bvc32"
      },
      "source": [
        "### Q4b"
      ]
    },
    {
      "cell_type": "markdown",
      "metadata": {
        "id": "YX-CBLYEvc32"
      },
      "source": [
        "#### Formulate hypothesis."
      ]
    },
    {
      "cell_type": "code",
      "execution_count": 90,
      "metadata": {
        "id": "JA3T4uKBvc33"
      },
      "outputs": [],
      "source": [
        "def Q4b_hyp():\n",
        "  Ho=\"\"\n",
        "  Ha=\"\"\n",
        "  return H0,Ha\n"
      ]
    },
    {
      "cell_type": "code",
      "source": [
        "Q4b_hyp()"
      ],
      "metadata": {
        "id": "6unQjzx9vB4q",
        "outputId": "4e3800ff-fdff-4e3f-fbbf-898e41ded7ba",
        "colab": {
          "base_uri": "https://localhost:8080/",
          "height": 269
        }
      },
      "execution_count": 91,
      "outputs": [
        {
          "output_type": "error",
          "ename": "NameError",
          "evalue": "name 'H0' is not defined",
          "traceback": [
            "\u001b[0;31m---------------------------------------------------------------------------\u001b[0m",
            "\u001b[0;31mNameError\u001b[0m                                 Traceback (most recent call last)",
            "\u001b[0;32m/tmp/ipython-input-1194597998.py\u001b[0m in \u001b[0;36m<cell line: 0>\u001b[0;34m()\u001b[0m\n\u001b[0;32m----> 1\u001b[0;31m \u001b[0mQ4b_hyp\u001b[0m\u001b[0;34m(\u001b[0m\u001b[0;34m)\u001b[0m\u001b[0;34m\u001b[0m\u001b[0;34m\u001b[0m\u001b[0m\n\u001b[0m",
            "\u001b[0;32m/tmp/ipython-input-1368398267.py\u001b[0m in \u001b[0;36mQ4b_hyp\u001b[0;34m()\u001b[0m\n\u001b[1;32m      2\u001b[0m   \u001b[0mHo\u001b[0m\u001b[0;34m=\u001b[0m\u001b[0;34m\"\"\u001b[0m\u001b[0;34m\u001b[0m\u001b[0;34m\u001b[0m\u001b[0m\n\u001b[1;32m      3\u001b[0m   \u001b[0mHa\u001b[0m\u001b[0;34m=\u001b[0m\u001b[0;34m\"\"\u001b[0m\u001b[0;34m\u001b[0m\u001b[0;34m\u001b[0m\u001b[0m\n\u001b[0;32m----> 4\u001b[0;31m   \u001b[0;32mreturn\u001b[0m \u001b[0mH0\u001b[0m\u001b[0;34m,\u001b[0m\u001b[0mHa\u001b[0m\u001b[0;34m\u001b[0m\u001b[0;34m\u001b[0m\u001b[0m\n\u001b[0m",
            "\u001b[0;31mNameError\u001b[0m: name 'H0' is not defined"
          ]
        }
      ]
    },
    {
      "cell_type": "markdown",
      "metadata": {
        "id": "AICXyeL_vc33"
      },
      "source": [
        "#### Check for ANOVA assumptions."
      ]
    },
    {
      "cell_type": "code",
      "execution_count": null,
      "metadata": {
        "id": "QMb21ZNDvc33"
      },
      "outputs": [],
      "source": [
        "def Q4b_var():\n",
        "  pass\n"
      ]
    },
    {
      "cell_type": "code",
      "source": [
        "Q4a_var()"
      ],
      "metadata": {
        "id": "XbNLEpvsvKKU"
      },
      "execution_count": null,
      "outputs": []
    },
    {
      "cell_type": "code",
      "source": [
        "def Q4b_dist():\n",
        "  pass\n"
      ],
      "metadata": {
        "id": "ABLboxC3urPj"
      },
      "execution_count": null,
      "outputs": []
    },
    {
      "cell_type": "code",
      "source": [
        "Q4a_dist()"
      ],
      "metadata": {
        "id": "ukyuxqHYu_j2"
      },
      "execution_count": null,
      "outputs": []
    },
    {
      "cell_type": "markdown",
      "metadata": {
        "id": "dLn7i9Apvc33"
      },
      "source": [
        "#### ANOVA."
      ]
    },
    {
      "cell_type": "code",
      "execution_count": null,
      "metadata": {
        "id": "Fj2aoaR3vc33"
      },
      "outputs": [],
      "source": [
        "def Q4b_anova():\n",
        "  pass\n"
      ]
    },
    {
      "cell_type": "code",
      "source": [
        "Q4a_anova()"
      ],
      "metadata": {
        "id": "nCFcWZkhu78H"
      },
      "execution_count": null,
      "outputs": []
    },
    {
      "cell_type": "markdown",
      "metadata": {
        "id": "F8lbOO6_vc33"
      },
      "source": [
        "#### Conclusions."
      ]
    },
    {
      "cell_type": "code",
      "execution_count": null,
      "metadata": {
        "id": "y-2bZ6Tivc33"
      },
      "outputs": [],
      "source": [
        "def Q4b_concl():\n",
        "  pass\n"
      ]
    },
    {
      "cell_type": "code",
      "source": [
        "Q4b_concl()"
      ],
      "metadata": {
        "id": "eLkWdAMYu4J7"
      },
      "execution_count": null,
      "outputs": []
    },
    {
      "cell_type": "markdown",
      "metadata": {
        "id": "ZQdtYor5vc33"
      },
      "source": [
        "### Q4c"
      ]
    },
    {
      "cell_type": "markdown",
      "metadata": {
        "id": "pvCwfNM5vc33"
      },
      "source": [
        "#### Formulate hypothesis."
      ]
    },
    {
      "cell_type": "code",
      "execution_count": null,
      "metadata": {
        "id": "Cc6cXcELvc33"
      },
      "outputs": [],
      "source": []
    },
    {
      "cell_type": "markdown",
      "metadata": {
        "id": "iOOwYrd7vc33"
      },
      "source": [
        "#### Check for ANOVA assumptions."
      ]
    },
    {
      "cell_type": "code",
      "execution_count": null,
      "metadata": {
        "id": "JyaPnTqQvc33"
      },
      "outputs": [],
      "source": []
    },
    {
      "cell_type": "markdown",
      "metadata": {
        "id": "TA-4HUstvc34"
      },
      "source": [
        "#### ANOVA."
      ]
    },
    {
      "cell_type": "code",
      "execution_count": null,
      "metadata": {
        "id": "N61Sxukgvc34"
      },
      "outputs": [],
      "source": []
    },
    {
      "cell_type": "markdown",
      "metadata": {
        "id": "uokZOw1avc34"
      },
      "source": [
        "#### Conclusions."
      ]
    },
    {
      "cell_type": "code",
      "execution_count": null,
      "metadata": {
        "id": "XaClGhw1vc34"
      },
      "outputs": [],
      "source": []
    }
  ],
  "metadata": {
    "kernelspec": {
      "display_name": "Python 3",
      "language": "python",
      "name": "python3"
    },
    "language_info": {
      "codemirror_mode": {
        "name": "ipython",
        "version": 3
      },
      "file_extension": ".py",
      "mimetype": "text/x-python",
      "name": "python",
      "nbconvert_exporter": "python",
      "pygments_lexer": "ipython3",
      "version": "3.8.8"
    },
    "colab": {
      "provenance": []
    }
  },
  "nbformat": 4,
  "nbformat_minor": 0
}