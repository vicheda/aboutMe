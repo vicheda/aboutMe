{
  "cells": [
    {
      "cell_type": "markdown",
      "metadata": {
        "id": "view-in-github",
        "colab_type": "text"
      },
      "source": [
        "<a href=\"https://colab.research.google.com/github/vicheda/aboutMe/blob/main/Statistics.ipynb\" target=\"_parent\"><img src=\"https://colab.research.google.com/assets/colab-badge.svg\" alt=\"Open In Colab\"/></a>"
      ]
    },
    {
      "cell_type": "markdown",
      "source": [
        "### Input your name and netid ((double-click on the cell below and type in)"
      ],
      "metadata": {
        "id": "MWac5-UcCBIZ"
      }
    },
    {
      "cell_type": "markdown",
      "source": [
        "### [your name, your netid]:"
      ],
      "metadata": {
        "id": "1iUqDAMdCDGU"
      }
    },
    {
      "cell_type": "markdown",
      "source": [
        "## Q0. Preparations.\n",
        "\n"
      ],
      "metadata": {
        "id": "E83ck1tpjw1f"
      }
    },
    {
      "cell_type": "markdown",
      "metadata": {
        "id": "El23KHPGvc3n"
      },
      "source": [
        "### Import/install all needed packages here.\n",
        "Run the code blocks without change anything!\n"
      ]
    },
    {
      "cell_type": "code",
      "execution_count": null,
      "metadata": {
        "id": "2KCyEXSzvc3p"
      },
      "outputs": [],
      "source": [
        "import json\n",
        "import pandas as pd\n",
        "import scipy\n",
        "from scipy import stats\n",
        "!pip install apyori\n",
        "from apyori import apriori\n",
        "import matplotlib.pyplot as plt"
      ]
    },
    {
      "cell_type": "markdown",
      "source": [
        "## Download datasets to the current directory"
      ],
      "metadata": {
        "id": "5FDBwFlSRRsW"
      }
    },
    {
      "cell_type": "code",
      "source": [
        "#yelp_academic_dataset_user_no_friend.json\n",
        "!wget https://nu-cs326-msai339.s3.us-east-1.amazonaws.com/yelp_academic_dataset_user_no_friend.json"
      ],
      "metadata": {
        "collapsed": true,
        "id": "YbN77MB0RbT-"
      },
      "execution_count": null,
      "outputs": []
    },
    {
      "cell_type": "code",
      "source": [
        "#yelp_academic_dataset_business.json\n",
        "!wget https://nu-cs326-msai339.s3.us-east-1.amazonaws.com/yelp_academic_dataset_business.json"
      ],
      "metadata": {
        "collapsed": true,
        "id": "VVDSQpxkRbvz"
      },
      "execution_count": null,
      "outputs": []
    },
    {
      "cell_type": "markdown",
      "metadata": {
        "id": "khb79DDUvc3p"
      },
      "source": [
        "## Load data to pandas DataFrames."
      ]
    },
    {
      "cell_type": "code",
      "execution_count": null,
      "metadata": {
        "id": "taZYzilkvc3q"
      },
      "outputs": [],
      "source": [
        "df_user = pd.read_json(\"yelp_academic_dataset_user_no_friend.json\", lines=True)"
      ]
    },
    {
      "cell_type": "code",
      "source": [
        "df_bussiness = pd.read_json('yelp_academic_dataset_business.json', lines=True)"
      ],
      "metadata": {
        "id": "8QaXoKw4R39_"
      },
      "execution_count": null,
      "outputs": []
    },
    {
      "cell_type": "code",
      "source": [
        "# to browse the dataframe df_user\n",
        "df_user.head()"
      ],
      "metadata": {
        "id": "u9coKTz2pgW-"
      },
      "execution_count": null,
      "outputs": []
    },
    {
      "cell_type": "code",
      "source": [
        "# to browse the dataframe df_bussiness\n",
        "df_bussiness.head()"
      ],
      "metadata": {
        "id": "tX5zW-xEpo3E"
      },
      "execution_count": null,
      "outputs": []
    },
    {
      "cell_type": "markdown",
      "metadata": {
        "id": "e-RlpY7cvc3q"
      },
      "source": [
        "## Q1. Correlation coefficient"
      ]
    },
    {
      "cell_type": "markdown",
      "metadata": {
        "id": "mWl_Vdl7vc3q"
      },
      "source": [
        "### Q1a"
      ]
    },
    {
      "cell_type": "code",
      "execution_count": null,
      "metadata": {
        "id": "gRpI2oRTvc3r"
      },
      "outputs": [],
      "source": [
        "def Q1a():\n",
        "  pass"
      ]
    },
    {
      "cell_type": "code",
      "source": [
        "Q1a()"
      ],
      "metadata": {
        "id": "h5LjAaG3hdTb"
      },
      "execution_count": null,
      "outputs": []
    },
    {
      "cell_type": "markdown",
      "metadata": {
        "id": "LUgFwChivc3s"
      },
      "source": [
        "### Q1b"
      ]
    },
    {
      "cell_type": "markdown",
      "metadata": {
        "id": "1o-2otjuvc3t"
      },
      "source": [
        "#### Analysis."
      ]
    },
    {
      "cell_type": "code",
      "execution_count": null,
      "metadata": {
        "id": "Mw1z9rxNvc3t"
      },
      "outputs": [],
      "source": [
        "def Q1b():\n",
        "  pass"
      ]
    },
    {
      "cell_type": "code",
      "source": [
        "Q1b()"
      ],
      "metadata": {
        "id": "-0m7j--8heve"
      },
      "execution_count": null,
      "outputs": []
    },
    {
      "cell_type": "markdown",
      "metadata": {
        "id": "Rbwf0KmAvc3t"
      },
      "source": [
        "#### Conclusions."
      ]
    },
    {
      "cell_type": "code",
      "execution_count": null,
      "metadata": {
        "id": "nW7T6rVxvc3t"
      },
      "outputs": [],
      "source": [
        "#TODO: modify the conclusions strings\n",
        "def Q1b_concl():\n",
        "  conclusions = \" put your findings here.\"\n",
        "  return conclusions"
      ]
    },
    {
      "cell_type": "code",
      "source": [
        "Q1b_concl()"
      ],
      "metadata": {
        "id": "J1TycAu6htqO"
      },
      "execution_count": null,
      "outputs": []
    },
    {
      "cell_type": "markdown",
      "metadata": {
        "id": "fAQZRkfjvc3t"
      },
      "source": [
        "### Q1c"
      ]
    },
    {
      "cell_type": "markdown",
      "metadata": {
        "id": "9rOamwXgvc3t"
      },
      "source": [
        "#### Analysis."
      ]
    },
    {
      "cell_type": "code",
      "execution_count": null,
      "metadata": {
        "id": "vw5tmTJUvc3t"
      },
      "outputs": [],
      "source": [
        "def Q1c():\n",
        "  pass"
      ]
    },
    {
      "cell_type": "code",
      "source": [
        "Q1c()"
      ],
      "metadata": {
        "id": "GzkN2k2or-nR"
      },
      "execution_count": null,
      "outputs": []
    },
    {
      "cell_type": "markdown",
      "metadata": {
        "id": "7zmjC_Jcvc3t"
      },
      "source": [
        "#### Plot."
      ]
    },
    {
      "cell_type": "code",
      "execution_count": null,
      "metadata": {
        "id": "KZkH_myqvc3u"
      },
      "outputs": [],
      "source": [
        "def Q1c_plot():\n",
        "  pass"
      ]
    },
    {
      "cell_type": "code",
      "source": [
        "Q1c_plot()"
      ],
      "metadata": {
        "id": "5EDNuP_HsCML"
      },
      "execution_count": null,
      "outputs": []
    },
    {
      "cell_type": "markdown",
      "metadata": {
        "id": "Tu8j9roovc3u"
      },
      "source": [
        "#### Conclusions."
      ]
    },
    {
      "cell_type": "code",
      "execution_count": null,
      "metadata": {
        "id": "jCLm_LQhvc3u"
      },
      "outputs": [],
      "source": [
        "#TODO: modify the conclusions strings\n",
        "def Q1c_concl():\n",
        "  conclusions = \" put your findings here.\"\n",
        "  return conclusions"
      ]
    },
    {
      "cell_type": "code",
      "source": [
        "Q1c_concl()"
      ],
      "metadata": {
        "id": "1DHSNp70r5YV"
      },
      "execution_count": null,
      "outputs": []
    },
    {
      "cell_type": "markdown",
      "metadata": {
        "id": "esu9H9kGvc3u"
      },
      "source": [
        "## Q2. Chi Square Test"
      ]
    },
    {
      "cell_type": "markdown",
      "metadata": {
        "id": "fyxsPZrKvc3u"
      },
      "source": [
        "#### Analysis."
      ]
    },
    {
      "cell_type": "code",
      "execution_count": null,
      "metadata": {
        "id": "cZFDtn42vc3u"
      },
      "outputs": [],
      "source": [
        "def Q2():\n",
        "  pass"
      ]
    },
    {
      "cell_type": "code",
      "source": [
        "Q2()"
      ],
      "metadata": {
        "id": "ao3wu_XVJftp"
      },
      "execution_count": null,
      "outputs": []
    },
    {
      "cell_type": "markdown",
      "metadata": {
        "id": "5a2Ly1j5vc3u"
      },
      "source": [
        "#### Conclusions."
      ]
    },
    {
      "cell_type": "code",
      "execution_count": null,
      "metadata": {
        "id": "vdLfBF7gvc3u"
      },
      "outputs": [],
      "source": [
        "#TODO: modify the conclusions strings\n",
        "def Q2_concl():\n",
        "  pass"
      ]
    },
    {
      "cell_type": "code",
      "source": [
        "Q2_concl()"
      ],
      "metadata": {
        "id": "E7PS12lIJj2y"
      },
      "execution_count": null,
      "outputs": []
    },
    {
      "cell_type": "markdown",
      "metadata": {
        "id": "qh72Hgahvc3u"
      },
      "source": [
        "## Q3. Association rule"
      ]
    },
    {
      "cell_type": "code",
      "source": [
        "#helper function\n",
        "def Q3o():\n",
        "  pass"
      ],
      "metadata": {
        "id": "J-LjWGSCWycA"
      },
      "execution_count": null,
      "outputs": []
    },
    {
      "cell_type": "markdown",
      "metadata": {
        "id": "8XOKErPOvc3u"
      },
      "source": [
        "### Q3a"
      ]
    },
    {
      "cell_type": "code",
      "execution_count": null,
      "metadata": {
        "id": "o9PFMVhuvc3u"
      },
      "outputs": [],
      "source": [
        "def Q3a():\n",
        "  pass"
      ]
    },
    {
      "cell_type": "code",
      "execution_count": null,
      "metadata": {
        "id": "YMm58buwvc3v"
      },
      "outputs": [],
      "source": [
        "Q3a()"
      ]
    },
    {
      "cell_type": "markdown",
      "metadata": {
        "id": "9u4MZtbovc3v"
      },
      "source": [
        "### Q3b"
      ]
    },
    {
      "cell_type": "markdown",
      "metadata": {
        "id": "8rjgRsxFvc3v"
      },
      "source": [
        "#### Analysis."
      ]
    },
    {
      "cell_type": "code",
      "execution_count": null,
      "metadata": {
        "id": "7w4yhknHvc3v"
      },
      "outputs": [],
      "source": [
        "def Q3b():\n",
        "  pass"
      ]
    },
    {
      "cell_type": "code",
      "source": [
        "Q3b()"
      ],
      "metadata": {
        "id": "8uR-7in5XRUX"
      },
      "execution_count": null,
      "outputs": []
    },
    {
      "cell_type": "markdown",
      "metadata": {
        "id": "FCcJxx5Svc3v"
      },
      "source": [
        "#### Conclusions."
      ]
    },
    {
      "cell_type": "code",
      "execution_count": null,
      "metadata": {
        "id": "n7wvBjiovc3v"
      },
      "outputs": [],
      "source": [
        "#TODO: modify the conclusions strings\n",
        "def Q3b_concl():\n",
        "  pass"
      ]
    },
    {
      "cell_type": "code",
      "source": [
        "print(Q3b_concl())"
      ],
      "metadata": {
        "id": "VDtpNceaXWsR"
      },
      "execution_count": null,
      "outputs": []
    },
    {
      "cell_type": "markdown",
      "metadata": {
        "id": "ND6u3XUAvc3v"
      },
      "source": [
        "## Q4. ANOVA"
      ]
    },
    {
      "cell_type": "markdown",
      "metadata": {
        "tags": [],
        "id": "ZaUwLbjqvc32"
      },
      "source": [
        "### Q4a"
      ]
    },
    {
      "cell_type": "code",
      "source": [
        "#helper function\n",
        "def Q4o():\n",
        "  pass"
      ],
      "metadata": {
        "id": "jnBpaLU9ttqk"
      },
      "execution_count": null,
      "outputs": []
    },
    {
      "cell_type": "markdown",
      "metadata": {
        "id": "LH7CxiU_vc32"
      },
      "source": [
        "#### Plot."
      ]
    },
    {
      "cell_type": "code",
      "execution_count": null,
      "metadata": {
        "id": "n2p0gY3Zvc32"
      },
      "outputs": [],
      "source": [
        "def Q4a():\n",
        "  pass\n"
      ]
    },
    {
      "cell_type": "code",
      "source": [
        "Q4a()"
      ],
      "metadata": {
        "id": "e0x0AzZ0vGVn"
      },
      "execution_count": null,
      "outputs": []
    },
    {
      "cell_type": "markdown",
      "metadata": {
        "id": "6pquZriFvc32"
      },
      "source": [
        "#### Conclusions."
      ]
    },
    {
      "cell_type": "code",
      "execution_count": null,
      "metadata": {
        "id": "EsOjNQ0Evc32"
      },
      "outputs": [],
      "source": [
        "def Q4a_concl():\n",
        "  pass\n"
      ]
    },
    {
      "cell_type": "code",
      "source": [
        "Q4a_concl()"
      ],
      "metadata": {
        "id": "k6p1PHl_vIDO"
      },
      "execution_count": null,
      "outputs": []
    },
    {
      "cell_type": "markdown",
      "metadata": {
        "id": "X5c4Q95bvc32"
      },
      "source": [
        "### Q4b"
      ]
    },
    {
      "cell_type": "markdown",
      "metadata": {
        "id": "YX-CBLYEvc32"
      },
      "source": [
        "#### Formulate hypothesis."
      ]
    },
    {
      "cell_type": "code",
      "execution_count": null,
      "metadata": {
        "id": "JA3T4uKBvc33"
      },
      "outputs": [],
      "source": [
        "def Q4b_hyp():\n",
        "  Ho=\"\"\n",
        "  Ha=\"\"\n",
        "  return H0,Ha\n"
      ]
    },
    {
      "cell_type": "code",
      "source": [
        "Q4b_hyp()"
      ],
      "metadata": {
        "id": "6unQjzx9vB4q"
      },
      "execution_count": null,
      "outputs": []
    },
    {
      "cell_type": "markdown",
      "metadata": {
        "id": "AICXyeL_vc33"
      },
      "source": [
        "#### Check for ANOVA assumptions."
      ]
    },
    {
      "cell_type": "code",
      "execution_count": null,
      "metadata": {
        "id": "QMb21ZNDvc33"
      },
      "outputs": [],
      "source": [
        "def Q4b_var():\n",
        "  pass\n"
      ]
    },
    {
      "cell_type": "code",
      "source": [
        "Q4a_var()"
      ],
      "metadata": {
        "id": "XbNLEpvsvKKU"
      },
      "execution_count": null,
      "outputs": []
    },
    {
      "cell_type": "code",
      "source": [
        "def Q4b_dist():\n",
        "  pass\n"
      ],
      "metadata": {
        "id": "ABLboxC3urPj"
      },
      "execution_count": null,
      "outputs": []
    },
    {
      "cell_type": "code",
      "source": [
        "Q4a_dist()"
      ],
      "metadata": {
        "id": "ukyuxqHYu_j2"
      },
      "execution_count": null,
      "outputs": []
    },
    {
      "cell_type": "markdown",
      "metadata": {
        "id": "dLn7i9Apvc33"
      },
      "source": [
        "#### ANOVA."
      ]
    },
    {
      "cell_type": "code",
      "execution_count": null,
      "metadata": {
        "id": "Fj2aoaR3vc33"
      },
      "outputs": [],
      "source": [
        "def Q4b_anova():\n",
        "  pass\n"
      ]
    },
    {
      "cell_type": "code",
      "source": [
        "Q4a_anova()"
      ],
      "metadata": {
        "id": "nCFcWZkhu78H"
      },
      "execution_count": null,
      "outputs": []
    },
    {
      "cell_type": "markdown",
      "metadata": {
        "id": "F8lbOO6_vc33"
      },
      "source": [
        "#### Conclusions."
      ]
    },
    {
      "cell_type": "code",
      "execution_count": null,
      "metadata": {
        "id": "y-2bZ6Tivc33"
      },
      "outputs": [],
      "source": [
        "def Q4b_concl():\n",
        "  pass\n"
      ]
    },
    {
      "cell_type": "code",
      "source": [
        "Q4b_concl()"
      ],
      "metadata": {
        "id": "eLkWdAMYu4J7"
      },
      "execution_count": null,
      "outputs": []
    },
    {
      "cell_type": "markdown",
      "metadata": {
        "id": "ZQdtYor5vc33"
      },
      "source": [
        "### Q4c"
      ]
    },
    {
      "cell_type": "markdown",
      "metadata": {
        "id": "pvCwfNM5vc33"
      },
      "source": [
        "#### Formulate hypothesis."
      ]
    },
    {
      "cell_type": "code",
      "execution_count": null,
      "metadata": {
        "id": "Cc6cXcELvc33"
      },
      "outputs": [],
      "source": []
    },
    {
      "cell_type": "markdown",
      "metadata": {
        "id": "iOOwYrd7vc33"
      },
      "source": [
        "#### Check for ANOVA assumptions."
      ]
    },
    {
      "cell_type": "code",
      "execution_count": null,
      "metadata": {
        "id": "JyaPnTqQvc33"
      },
      "outputs": [],
      "source": []
    },
    {
      "cell_type": "markdown",
      "metadata": {
        "id": "TA-4HUstvc34"
      },
      "source": [
        "#### ANOVA."
      ]
    },
    {
      "cell_type": "code",
      "execution_count": null,
      "metadata": {
        "id": "N61Sxukgvc34"
      },
      "outputs": [],
      "source": []
    },
    {
      "cell_type": "markdown",
      "metadata": {
        "id": "uokZOw1avc34"
      },
      "source": [
        "#### Conclusions."
      ]
    },
    {
      "cell_type": "code",
      "execution_count": null,
      "metadata": {
        "id": "XaClGhw1vc34"
      },
      "outputs": [],
      "source": []
    }
  ],
  "metadata": {
    "kernelspec": {
      "display_name": "Python 3",
      "language": "python",
      "name": "python3"
    },
    "language_info": {
      "codemirror_mode": {
        "name": "ipython",
        "version": 3
      },
      "file_extension": ".py",
      "mimetype": "text/x-python",
      "name": "python",
      "nbconvert_exporter": "python",
      "pygments_lexer": "ipython3",
      "version": "3.8.8"
    },
    "colab": {
      "provenance": [],
      "include_colab_link": true
    }
  },
  "nbformat": 4,
  "nbformat_minor": 0
}